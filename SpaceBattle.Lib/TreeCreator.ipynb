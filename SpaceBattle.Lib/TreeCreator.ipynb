{
 "cells": [
  {
   "cell_type": "code",
   "execution_count": 163,
   "id": "63130f16",
   "metadata": {},
   "outputs": [],
   "source": [
    "import math"
   ]
  },
  {
   "cell_type": "code",
   "execution_count": 164,
   "id": "06cf0cc8",
   "metadata": {},
   "outputs": [],
   "source": [
    "ship_grid = [[0, 1, 0], [1,1,1], [1,0,1]]\n",
    "torpedo_grid = [[0,1,0], [0,1,0],[0,0,0]]"
   ]
  },
  {
   "cell_type": "code",
   "execution_count": 165,
   "id": "0175e74a",
   "metadata": {},
   "outputs": [],
   "source": [
    "name_obj1 = \"ship\"\n",
    "name_obj2 = \"torpedo\""
   ]
  },
  {
   "cell_type": "code",
   "execution_count": null,
   "id": "4aae0e5f",
   "metadata": {},
   "outputs": [],
   "source": [
    "def place_object_on_grid(grid, obj, x, y):\n",
    "    obj_height = len(obj)\n",
    "    obj_width = len(obj[0]) \n",
    "    for i in range(obj_height):\n",
    "        for j in range(obj_width):\n",
    "            grid[x + i][y + j] += obj[i][j]\n",
    "\n",
    "    return grid"
   ]
  },
  {
   "cell_type": "code",
   "execution_count": 167,
   "id": "22e3fd89",
   "metadata": {},
   "outputs": [],
   "source": [
    "def check_collision(object1, object2, grid_size_x, grid_size_y, pos_x, pos_y):\n",
    "    grid = [[0 for _ in range(-2*grid_size_x,2*grid_size_x + len(object2[0]))] for _ in range(-2*grid_size_y, 2*grid_size_y + len(object2))]\n",
    "    grid = place_object_on_grid(place_object_on_grid(grid, object1,2*grid_size_x, 2*grid_size_x)\n",
    "                                , object2\n",
    "                                , 2*grid_size_x - pos_x\n",
    "                                , 2*grid_size_y + pos_y)\n",
    "\n",
    "\n",
    "    #for i in range(len(grid)):\n",
    "    #    print(grid[i])\n",
    "    return any(cell == 2 for row in grid for cell in row)\n"
   ]
  },
  {
   "cell_type": "code",
   "execution_count": 168,
   "id": "8e530c77",
   "metadata": {},
   "outputs": [],
   "source": [
    "def brezenham_algorithm(point1_x, point2_x, point1_y, point2_y):\n",
    "    points = [(point1_x, point1_y), (point2_x, point2_y)]\n",
    "    deltax = abs(point2_x - point1_x)\n",
    "    deltay = abs(point2_y - point1_y)\n",
    "    error = 0\n",
    "    deltaerr = (deltay + 1)\n",
    "    y = point1_y\n",
    "    diry = point2_y - point1_y\n",
    "    if diry > 0:\n",
    "        diry = 1\n",
    "    elif diry < 0:\n",
    "        diry = -1\n",
    "    for x in range(point1_x, point2_x+1):\n",
    "        points.append((x, y))\n",
    "        error += deltaerr\n",
    "        if error >= (deltax + 1):\n",
    "            y = y + diry\n",
    "            error -= (deltax + 1)\n",
    "    return points"
   ]
  },
  {
   "cell_type": "code",
   "execution_count": 169,
   "id": "342859e6",
   "metadata": {},
   "outputs": [],
   "source": [
    "def turning(object, angle): # список точек, собирающий в implementing наш объект\n",
    "    size_x = len(object[0])\n",
    "    size_y = len(object)\n",
    "    points = []\n",
    "    for column in range(size_x): # столбец известен (x)\n",
    "        start = -1\n",
    "        end = -1\n",
    "        for row in range(size_y):\n",
    "            if object[row][column] == 1:\n",
    "                if start == -1:\n",
    "                    start = row\n",
    "                end = row\n",
    "        if start != -1 and end != -1: # центр находится в середине куба\n",
    "            center_x = size_x // 2\n",
    "            center_y = size_y // 2\n",
    "            new_start_x = (column-center_x)*math.cos(math.radians(angle)) - (start - center_y)*math.sin(math.radians(angle))\n",
    "            new_start_y = (column-center_x)*math.sin(math.radians(angle)) + (start - center_y)*math.cos(math.radians(angle))\n",
    "            new_end_x = (column-center_x)*math.cos(math.radians(angle)) - (end - center_y)*math.sin(math.radians(angle))\n",
    "            new_end_y = (column-center_x)*math.sin(math.radians(angle)) + (end - center_y)*math.cos(math.radians(angle))\n",
    "\n",
    "            new_start_x += center_x\n",
    "            new_start_y += center_y\n",
    "            new_end_x += center_x\n",
    "            new_end_y += center_y\n",
    "\n",
    "            points += brezenham_algorithm(int(round(new_start_x)), int(round(new_end_x)), int(round(new_start_y)), int(round(new_end_y)))\n",
    "    return points\n"
   ]
  },
  {
   "cell_type": "code",
   "execution_count": 170,
   "id": "1190bab8",
   "metadata": {},
   "outputs": [],
   "source": [
    "def implementing(size_x, size_y, points): # реализация поворота\n",
    "    grid = [[0 for _ in range(size_x)] for _ in range(size_y)]\n",
    "    for x, y in points:\n",
    "        grid[y][x] = 1\n",
    "    return grid"
   ]
  },
  {
   "cell_type": "code",
   "execution_count": 172,
   "id": "dee7da19",
   "metadata": {},
   "outputs": [],
   "source": [
    "def making_situations(grid_size_x, grid_size_y,object1, object2, list, angle_list): # у object1 позиция 0,0 и он не повернут\n",
    "    for i in range(-2*grid_size_x, 2*grid_size_x):\n",
    "        for j in range(-2*grid_size_y, 2*grid_size_y):\n",
    "            for angle in angle_list:\n",
    "                list.append((i, j, angle, check_collision(object1,implementing(len(object2[0]), len(object2), turning(object2, angle)), grid_size_x, grid_size_y, i, j)))\n",
    "    return list"
   ]
  },
  {
   "cell_type": "code",
   "execution_count": null,
   "id": "112e397e",
   "metadata": {},
   "outputs": [],
   "source": [
    "def making_collision_situations(grid_size_x, grid_size_y, max_speed_x1, max_speed_y1, max_speed_x2, max_speed_y2, object1, object2, angle_list): # object1 имеет скорость (0,0)\n",
    "    x_y_dx_dy = []\n",
    "    list_ = making_situations(grid_size_x, grid_size_y, object1, object2, [], angle_list)\n",
    "    for x in range(-2*grid_size_x, 2*grid_size_x):\n",
    "        for y in range(-2*grid_size_y, 2*grid_size_y):\n",
    "            for i in range(-(max_speed_x1+max_speed_x2),max_speed_x1+max_speed_x2):\n",
    "                for j in range(-(max_speed_y1+max_speed_y2),max_speed_y1+max_speed_y2):\n",
    "                    nearest_angle = min(angle_list, key=lambda a: abs(a - math.atan2(j, i)))\n",
    "                    if((x, y,nearest_angle, True) in list_):\n",
    "                        x_y_dx_dy.append((x, y, i , j))\n",
    "                    elif((x+i, y+j,nearest_angle, True) in list_):\n",
    "                        x_y_dx_dy.append((x, y, i , j))\n",
    "    return x_y_dx_dy"
   ]
  },
  {
   "cell_type": "code",
   "execution_count": 174,
   "id": "3dc3764d",
   "metadata": {},
   "outputs": [
    {
     "name": "stdout",
     "output_type": "stream",
     "text": [
      "-20\n",
      "-19\n",
      "-18\n",
      "-17\n",
      "-16\n",
      "-15\n",
      "-14\n",
      "-13\n",
      "-12\n",
      "-11\n",
      "-10\n",
      "-9\n",
      "-8\n",
      "-7\n",
      "-6\n",
      "-5\n",
      "-4\n",
      "-3\n",
      "-2\n",
      "-1\n",
      "0\n",
      "1\n",
      "2\n",
      "3\n",
      "4\n",
      "5\n",
      "6\n",
      "7\n",
      "8\n",
      "9\n",
      "10\n",
      "11\n",
      "12\n",
      "13\n",
      "14\n",
      "15\n",
      "16\n",
      "17\n",
      "18\n",
      "19\n",
      "Данные успешно записаны в файл shipandtorpedosets.txt\n"
     ]
    }
   ],
   "source": [
    "list_ = making_collision_situations(10, 10, 5, 5, 8, 8, ship_grid, torpedo_grid, [0, 45, 90, 135, 180, 225, 270, 315])\n",
    "filename = f\"{name_obj1}and{name_obj2}sets.txt\"\n",
    "with open(filename, \"w\") as file:\n",
    "    for set_ in list_:\n",
    "        line = \" \".join(map(str, set_))\n",
    "        file.write(line + \"\\n\")\n",
    "\n",
    "print(f\"Данные успешно записаны в файл {filename}\")"
   ]
  }
 ],
 "metadata": {
  "kernelspec": {
   "display_name": "Python 3",
   "language": "python",
   "name": "python3"
  },
  "language_info": {
   "codemirror_mode": {
    "name": "ipython",
    "version": 3
   },
   "file_extension": ".py",
   "mimetype": "text/x-python",
   "name": "python",
   "nbconvert_exporter": "python",
   "pygments_lexer": "ipython3",
   "version": "3.13.2"
  }
 },
 "nbformat": 4,
 "nbformat_minor": 5
}
